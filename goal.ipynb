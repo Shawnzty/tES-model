{
 "cells": [
  {
   "cell_type": "code",
   "execution_count": null,
   "metadata": {},
   "outputs": [],
   "source": []
  },
  {
   "cell_type": "markdown",
   "metadata": {},
   "source": [
    "# Goal of tES modeling"
   ]
  },
  {
   "cell_type": "markdown",
   "metadata": {},
   "source": [
    "## tACS modeling\n",
    "\n",
    "### Condition: 40 Hz tACS stimulation (or simply sine wave stimulation)\n",
    "\n",
    "### Finding:\n",
    "- increase in gamma power (or same frequency as stimulation)\n",
    "- decrease in alpha power (or lower frequency than stimulation)\n",
    "- faster reaction time\n",
    "- different ERP"
   ]
  },
  {
   "cell_type": "markdown",
   "metadata": {},
   "source": [
    "## tRNS modeling\n",
    "\n",
    "### Condition: Random noise stimulation\n",
    "\n",
    "### Finding:\n",
    "- better pattern recognition\n"
   ]
  }
 ],
 "metadata": {
  "language_info": {
   "name": "python"
  }
 },
 "nbformat": 4,
 "nbformat_minor": 2
}
