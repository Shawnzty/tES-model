{
 "cells": [
  {
   "cell_type": "code",
   "execution_count": 4,
   "metadata": {},
   "outputs": [],
   "source": [
    "import torch\n",
    "import torch.nn as nn"
   ]
  },
  {
   "cell_type": "code",
   "execution_count": 6,
   "metadata": {},
   "outputs": [],
   "source": [
    "# Correcting the use of torch.sqrt to accept a tensor as argument\n",
    "class FitzHughNagumoNetwork(nn.Module):\n",
    "    def __init__(self, n_neurons, a, b, J, epsilon, sigma, dt):\n",
    "        super(FitzHughNagumoNetwork, self).__init__()\n",
    "        self.n_neurons = n_neurons\n",
    "        self.a = a\n",
    "        self.b = b\n",
    "        self.J = J\n",
    "        self.epsilon = epsilon\n",
    "        self.sigma = sigma\n",
    "        self.dt = dt\n",
    "        \n",
    "        # Initialize the variables v and w for all neurons\n",
    "        self.v = torch.randn(n_neurons, device=device) * 0.1\n",
    "        self.w = torch.randn(n_neurons, device=device) * 0.1\n",
    "        \n",
    "        # Coupling matrix with J/n off-diagonal elements and zeros on the diagonal\n",
    "        self.coupling = (torch.ones(n_neurons, n_neurons, device=device) - torch.eye(n_neurons, device=device)) * (J / n_neurons)\n",
    "    \n",
    "    def cubic_nonlinearity(self, v):\n",
    "        return v * (1 - v) * (v - self.a)\n",
    "    \n",
    "    def forward(self, I, step):\n",
    "        # Brownian motion term for the noise\n",
    "        dW = torch.randn(self.n_neurons, device=device) * torch.sqrt(torch.tensor(self.dt).to(device))\n",
    "        \n",
    "        # dv/dt = f(v) - w + J/n * sum(v_j - v_i) + I + sigma*dW\n",
    "        # dw/dt = epsilon * (b*v - w)\n",
    "        dv = (self.cubic_nonlinearity(self.v) - self.w + torch.matmul(self.coupling, self.v) + I + \n",
    "              self.sigma * dW) * self.dt\n",
    "        dw = self.epsilon * (self.b * self.v - self.w) * self.dt\n",
    "        \n",
    "        # Update the variables v and w\n",
    "        self.v += dv\n",
    "        self.w += dw\n",
    "\n",
    "        return self.v, self.w\n",
    "\n",
    "device = torch.device('cuda' if torch.cuda.is_available() else 'cpu')\n",
    "\n",
    "# Updated parameters as provided\n",
    "a = 4.0         # Controls excitability\n",
    "b = 4.0         # Controls coupling between voltage and recovery variable\n",
    "epsilon = 0.01  # Time-scale ratio of the recovery variable\n",
    "J = 1.5         # Coupling strength\n",
    "sigma = 1.5     # Level of noise\n",
    "I_peak = 1.0    # Peak input current\n",
    "omega = 1.0     # Frequency of the input current (rad/s)\n",
    "n_neurons = 4000  # Number of neurons in the network\n",
    "T = 1000         # Number of simulation steps\n",
    "dt = 0.01        # Time step for the simulation\n",
    "\n",
    "\n",
    "# Initialize the network\n",
    "fhn_network = FitzHughNagumoNetwork(n_neurons, a, b, J, epsilon, sigma, dt).to(device)\n",
    "\n",
    "# Input current using cosine function\n",
    "I = I_peak * torch.cos(omega * torch.arange(T, device=device) * dt)\n",
    "\n",
    "# Record the membrane potentials and recovery variables over time\n",
    "v_rec = torch.zeros(T, n_neurons, device=device)\n",
    "w_rec = torch.zeros(T, n_neurons, device=device)\n",
    "\n",
    "# Simulate for T time steps\n",
    "for step in range(T):\n",
    "    current_input = I[step].expand(n_neurons)  # Current input is the same for all neurons at each step\n",
    "    v, w = fhn_network(current_input, step)\n",
    "    v_rec[step] = v\n",
    "    w_rec[step] = w\n",
    "\n",
    "# The data is now stored in v_rec and w_rec\n"
   ]
  },
  {
   "cell_type": "code",
   "execution_count": 7,
   "metadata": {},
   "outputs": [
    {
     "data": {
      "text/plain": [
       "tensor([[ 2.3663e-03, -9.7379e-03, -1.9094e-01,  ...,  7.9870e-02,\n",
       "          1.5942e-04,  2.7146e-02],\n",
       "        [ 1.3386e-02,  4.9621e-04, -1.7072e-01,  ...,  8.6687e-02,\n",
       "          1.1223e-02,  3.6544e-02],\n",
       "        [ 2.5697e-02,  8.6225e-03, -1.5140e-01,  ...,  9.5532e-02,\n",
       "          2.0740e-02,  4.4985e-02],\n",
       "        ...,\n",
       "        [ 4.2939e+00,  4.2892e+00,  4.2905e+00,  ...,  4.2893e+00,\n",
       "          4.2918e+00,  4.2975e+00],\n",
       "        [ 4.2919e+00,  4.2901e+00,  4.2936e+00,  ...,  4.2892e+00,\n",
       "          4.2923e+00,  4.2981e+00],\n",
       "        [ 4.2918e+00,  4.2915e+00,  4.2925e+00,  ...,  4.2889e+00,\n",
       "          4.2941e+00,  4.2986e+00]])"
      ]
     },
     "execution_count": 7,
     "metadata": {},
     "output_type": "execute_result"
    }
   ],
   "source": [
    "v_rec"
   ]
  }
 ],
 "metadata": {
  "kernelspec": {
   "display_name": "pytorch",
   "language": "python",
   "name": "python3"
  },
  "language_info": {
   "codemirror_mode": {
    "name": "ipython",
    "version": 3
   },
   "file_extension": ".py",
   "mimetype": "text/x-python",
   "name": "python",
   "nbconvert_exporter": "python",
   "pygments_lexer": "ipython3",
   "version": "3.11.5"
  }
 },
 "nbformat": 4,
 "nbformat_minor": 2
}
